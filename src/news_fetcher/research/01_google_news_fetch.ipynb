{
 "cells": [
  {
   "cell_type": "code",
   "execution_count": 2,
   "metadata": {},
   "outputs": [],
   "source": []
  },
  {
   "cell_type": "code",
   "execution_count": 1,
   "metadata": {},
   "outputs": [
    {
     "name": "stdout",
     "output_type": "stream",
     "text": [
      "[[2024-05-17 18:51:16,822]: INFO: configuration: API Key successfully retrieved]\n",
      "[[2024-05-17 18:51:16,823]: INFO: google_news: API request success for : https://newsapi.org/v2/everything with params: {'apiKey': 'ab0898e2c5964971b279ec543064a1ca', 'language': 'en', 'sortBy': 'publishedAt', 'q': 'technology'}]\n",
      "[[2024-05-17 18:51:17,383]: INFO: common: Successfully made API request: https://newsapi.org/v2/everything?apiKey=ab0898e2c5964971b279ec543064a1ca&language=en&sortBy=publishedAt&q=technology]\n",
      "[[2024-05-17 18:51:17,385]: INFO: google_news_facade: News data fetched successfully]\n",
      "[[2024-05-17 18:51:17,386]: INFO: google_news_facade: Found 100 articles]\n",
      "[<news_fetcher.entity.config_entity.GoogleNewsConfig object at 0x1059c20d0>, <news_fetcher.entity.config_entity.GoogleNewsConfig object at 0x1059cbc50>, <news_fetcher.entity.config_entity.GoogleNewsConfig object at 0x1059cb210>, <news_fetcher.entity.config_entity.GoogleNewsConfig object at 0x1059cb910>, <news_fetcher.entity.config_entity.GoogleNewsConfig object at 0x1059cb9d0>, <news_fetcher.entity.config_entity.GoogleNewsConfig object at 0x1059cb290>, <news_fetcher.entity.config_entity.GoogleNewsConfig object at 0x1059cb2d0>, <news_fetcher.entity.config_entity.GoogleNewsConfig object at 0x1059cad90>, <news_fetcher.entity.config_entity.GoogleNewsConfig object at 0x1059c9390>, <news_fetcher.entity.config_entity.GoogleNewsConfig object at 0x1059cb310>, <news_fetcher.entity.config_entity.GoogleNewsConfig object at 0x1059cb7d0>, <news_fetcher.entity.config_entity.GoogleNewsConfig object at 0x1059cad50>, <news_fetcher.entity.config_entity.GoogleNewsConfig object at 0x1059cbbd0>, <news_fetcher.entity.config_entity.GoogleNewsConfig object at 0x1059d9350>, <news_fetcher.entity.config_entity.GoogleNewsConfig object at 0x1059d9450>, <news_fetcher.entity.config_entity.GoogleNewsConfig object at 0x1059d9390>, <news_fetcher.entity.config_entity.GoogleNewsConfig object at 0x1059d93d0>, <news_fetcher.entity.config_entity.GoogleNewsConfig object at 0x1059d9250>, <news_fetcher.entity.config_entity.GoogleNewsConfig object at 0x1059d9b90>, <news_fetcher.entity.config_entity.GoogleNewsConfig object at 0x1059d9c10>, <news_fetcher.entity.config_entity.GoogleNewsConfig object at 0x1059d9bd0>, <news_fetcher.entity.config_entity.GoogleNewsConfig object at 0x1059da590>, <news_fetcher.entity.config_entity.GoogleNewsConfig object at 0x1059db010>, <news_fetcher.entity.config_entity.GoogleNewsConfig object at 0x1059da7d0>, <news_fetcher.entity.config_entity.GoogleNewsConfig object at 0x1059d9a90>, <news_fetcher.entity.config_entity.GoogleNewsConfig object at 0x1059d96d0>, <news_fetcher.entity.config_entity.GoogleNewsConfig object at 0x1059d9a50>, <news_fetcher.entity.config_entity.GoogleNewsConfig object at 0x1059d9a10>, <news_fetcher.entity.config_entity.GoogleNewsConfig object at 0x1059d9850>, <news_fetcher.entity.config_entity.GoogleNewsConfig object at 0x1059d9610>, <news_fetcher.entity.config_entity.GoogleNewsConfig object at 0x1059d9750>, <news_fetcher.entity.config_entity.GoogleNewsConfig object at 0x1059d80d0>, <news_fetcher.entity.config_entity.GoogleNewsConfig object at 0x1059da110>, <news_fetcher.entity.config_entity.GoogleNewsConfig object at 0x1059d9290>, <news_fetcher.entity.config_entity.GoogleNewsConfig object at 0x1059da790>, <news_fetcher.entity.config_entity.GoogleNewsConfig object at 0x1059da850>, <news_fetcher.entity.config_entity.GoogleNewsConfig object at 0x1059da890>, <news_fetcher.entity.config_entity.GoogleNewsConfig object at 0x1059da810>, <news_fetcher.entity.config_entity.GoogleNewsConfig object at 0x1059da910>, <news_fetcher.entity.config_entity.GoogleNewsConfig object at 0x1059da950>, <news_fetcher.entity.config_entity.GoogleNewsConfig object at 0x1059da990>, <news_fetcher.entity.config_entity.GoogleNewsConfig object at 0x1059da9d0>, <news_fetcher.entity.config_entity.GoogleNewsConfig object at 0x1059daa50>, <news_fetcher.entity.config_entity.GoogleNewsConfig object at 0x1059daa90>, <news_fetcher.entity.config_entity.GoogleNewsConfig object at 0x1059daad0>, <news_fetcher.entity.config_entity.GoogleNewsConfig object at 0x1059dab10>, <news_fetcher.entity.config_entity.GoogleNewsConfig object at 0x1059dab50>, <news_fetcher.entity.config_entity.GoogleNewsConfig object at 0x1059dab90>, <news_fetcher.entity.config_entity.GoogleNewsConfig object at 0x1059da8d0>, <news_fetcher.entity.config_entity.GoogleNewsConfig object at 0x1059dabd0>, <news_fetcher.entity.config_entity.GoogleNewsConfig object at 0x1059dac10>, <news_fetcher.entity.config_entity.GoogleNewsConfig object at 0x1059dac50>, <news_fetcher.entity.config_entity.GoogleNewsConfig object at 0x1059dac90>, <news_fetcher.entity.config_entity.GoogleNewsConfig object at 0x1059dacd0>, <news_fetcher.entity.config_entity.GoogleNewsConfig object at 0x1059dad10>, <news_fetcher.entity.config_entity.GoogleNewsConfig object at 0x1059dad50>, <news_fetcher.entity.config_entity.GoogleNewsConfig object at 0x1059dad90>, <news_fetcher.entity.config_entity.GoogleNewsConfig object at 0x1059daa10>, <news_fetcher.entity.config_entity.GoogleNewsConfig object at 0x1059da390>, <news_fetcher.entity.config_entity.GoogleNewsConfig object at 0x1059d91d0>, <news_fetcher.entity.config_entity.GoogleNewsConfig object at 0x1059da310>, <news_fetcher.entity.config_entity.GoogleNewsConfig object at 0x1059da610>, <news_fetcher.entity.config_entity.GoogleNewsConfig object at 0x1059da6d0>, <news_fetcher.entity.config_entity.GoogleNewsConfig object at 0x1059da690>, <news_fetcher.entity.config_entity.GoogleNewsConfig object at 0x1059da550>, <news_fetcher.entity.config_entity.GoogleNewsConfig object at 0x1059da490>, <news_fetcher.entity.config_entity.GoogleNewsConfig object at 0x1059da650>, <news_fetcher.entity.config_entity.GoogleNewsConfig object at 0x1059da3d0>, <news_fetcher.entity.config_entity.GoogleNewsConfig object at 0x1059da450>, <news_fetcher.entity.config_entity.GoogleNewsConfig object at 0x1059d8fd0>, <news_fetcher.entity.config_entity.GoogleNewsConfig object at 0x1059da050>, <news_fetcher.entity.config_entity.GoogleNewsConfig object at 0x1059daf90>, <news_fetcher.entity.config_entity.GoogleNewsConfig object at 0x1059daf50>, <news_fetcher.entity.config_entity.GoogleNewsConfig object at 0x1059daf10>, <news_fetcher.entity.config_entity.GoogleNewsConfig object at 0x1059daed0>, <news_fetcher.entity.config_entity.GoogleNewsConfig object at 0x1059dae90>, <news_fetcher.entity.config_entity.GoogleNewsConfig object at 0x1059dae50>, <news_fetcher.entity.config_entity.GoogleNewsConfig object at 0x1059dae10>, <news_fetcher.entity.config_entity.GoogleNewsConfig object at 0x1059d9c50>, <news_fetcher.entity.config_entity.GoogleNewsConfig object at 0x1059dadd0>, <news_fetcher.entity.config_entity.GoogleNewsConfig object at 0x1059da750>, <news_fetcher.entity.config_entity.GoogleNewsConfig object at 0x1059d8e50>, <news_fetcher.entity.config_entity.GoogleNewsConfig object at 0x1059da710>, <news_fetcher.entity.config_entity.GoogleNewsConfig object at 0x1059d9b50>, <news_fetcher.entity.config_entity.GoogleNewsConfig object at 0x1059f3990>, <news_fetcher.entity.config_entity.GoogleNewsConfig object at 0x1059f39d0>, <news_fetcher.entity.config_entity.GoogleNewsConfig object at 0x1059f3a10>, <news_fetcher.entity.config_entity.GoogleNewsConfig object at 0x1059f3a50>, <news_fetcher.entity.config_entity.GoogleNewsConfig object at 0x1059f3a90>, <news_fetcher.entity.config_entity.GoogleNewsConfig object at 0x1059f3ad0>, <news_fetcher.entity.config_entity.GoogleNewsConfig object at 0x1059f3b10>, <news_fetcher.entity.config_entity.GoogleNewsConfig object at 0x1059f3b50>, <news_fetcher.entity.config_entity.GoogleNewsConfig object at 0x1059f3b90>, <news_fetcher.entity.config_entity.GoogleNewsConfig object at 0x1059f3bd0>, <news_fetcher.entity.config_entity.GoogleNewsConfig object at 0x1059f3c10>, <news_fetcher.entity.config_entity.GoogleNewsConfig object at 0x1059f3c50>, <news_fetcher.entity.config_entity.GoogleNewsConfig object at 0x1059f3c90>, <news_fetcher.entity.config_entity.GoogleNewsConfig object at 0x1059f3cd0>, <news_fetcher.entity.config_entity.GoogleNewsConfig object at 0x1059f3d10>, <news_fetcher.entity.config_entity.GoogleNewsConfig object at 0x1059f3d50>]\n"
     ]
    }
   ],
   "source": [
    "from news_fetcher import logger\n",
    "\n",
    "from news_fetcher.facade.google_news_facade import get_news\n",
    "\n",
    "# Fetch latest technology news in English from the United States\n",
    "news_data = get_news(keywords=\"technology\", language=\"en\")\n",
    "print(news_data)\n",
    "\n"
   ]
  },
  {
   "cell_type": "code",
   "execution_count": 2,
   "metadata": {},
   "outputs": [],
   "source": [
    "import pandas as pd"
   ]
  },
  {
   "cell_type": "code",
   "execution_count": 4,
   "metadata": {},
   "outputs": [
    {
     "data": {
      "text/plain": [
       "<news_fetcher.entity.config_entity.GoogleNewsConfig at 0x105b95390>"
      ]
     },
     "execution_count": 4,
     "metadata": {},
     "output_type": "execute_result"
    }
   ],
   "source": [
    "news_data"
   ]
  },
  {
   "cell_type": "code",
   "execution_count": null,
   "metadata": {},
   "outputs": [],
   "source": []
  }
 ],
 "metadata": {
  "kernelspec": {
   "display_name": "nf",
   "language": "python",
   "name": "python3"
  },
  "language_info": {
   "codemirror_mode": {
    "name": "ipython",
    "version": 3
   },
   "file_extension": ".py",
   "mimetype": "text/x-python",
   "name": "python",
   "nbconvert_exporter": "python",
   "pygments_lexer": "ipython3",
   "version": "3.11.7"
  }
 },
 "nbformat": 4,
 "nbformat_minor": 2
}
